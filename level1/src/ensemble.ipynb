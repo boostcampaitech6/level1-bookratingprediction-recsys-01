{
 "cells": [
  {
   "cell_type": "markdown",
   "metadata": {},
   "source": [
    "# Simple Weighted Ensemble\n",
    "\n",
    ": 가중합 방식으로 각 모델들의 출력결과를 앙상블\n",
    "\n",
    "앞선 여러 번의 실험 결과,\\\n",
    "CNN-based 계열과 catboost계열이 맞추는 데이터가 다르다고 판단\n",
    "1) 최대한 다양한 데이터를 커버\n",
    "2) private score 강건성을 확보\n",
    "\n",
    "public score가 가장 좋았던 모델들을 앙상블\\\n",
    "catboost 모델 2개\\\n",
    "CNN_based 모델 3개\n",
    "\n",
    "\n",
    "- Catboost1 (**40%**)\n",
    "- Catboost2 (**20%**)\n",
    "- CNN_FM (**10%**)\n",
    "- CNN_DCN1 (**10%**)\n",
    "- CNN_DCN2 (**20%**)"
   ]
  },
  {
   "cell_type": "code",
   "execution_count": null,
   "metadata": {},
   "outputs": [],
   "source": [
    "import pandas as pd\n",
    "import numpy as np"
   ]
  },
  {
   "cell_type": "code",
   "execution_count": null,
   "metadata": {},
   "outputs": [],
   "source": [
    "# 파일 명은 임의로 설정했습니다\n",
    "\n",
    "catboost1 = pd.read_csv(\"data/catboost_092694.csv\")\n",
    "catboost2 = pd.read_csv(\"data/catboost_102634.csv\")\n",
    "\n",
    "CNN_FM = pd.read_csv('data/CNN_FM_123456.csv')\n",
    "\n",
    "CNN_DCN1 = pd.read_csv('data/CNN_DCN_012345.csv')\n",
    "CNN_DCN2 = pd.read_csv('data/CNN_DCN_123456.csv')\n",
    "\n",
    "submit = pd.read_csv('data/sample_submission.csv')"
   ]
  },
  {
   "cell_type": "code",
   "execution_count": null,
   "metadata": {},
   "outputs": [],
   "source": [
    "# 확인사항 1) 앙상블하기 전 모든 데이터가 제대로 임포트 되었는데 확인합니다\n",
    "# 확인사항 2) 모든 파일들의 index가 동일한 지 확인\n",
    "# 확인사항 3) 모든 파일들의 컬럼 명 확인\n",
    "\n",
    "# catboost1.head()\n",
    "# catboost2.head()\n",
    "\n",
    "# CNN_FM.head()\n",
    "\n",
    "# CNN_DCN1.head()\n",
    "# CNN_DCN2.head()\n",
    "\n",
    "submit.head()"
   ]
  },
  {
   "cell_type": "code",
   "execution_count": null,
   "metadata": {},
   "outputs": [],
   "source": [
    "# 가중합 방식으로 simple_weighted_ensemble을 시행합니다\n",
    "\n",
    "submit['rating'] = 0.4 * catboost1['rating'] + 0.2 * catboost2['rating'] + 0.1 * CNN_FM['rating'] + 0.1 * CNN_DCN1['rating'] + 0.2 * CNN_DCN2['rating']"
   ]
  },
  {
   "cell_type": "code",
   "execution_count": null,
   "metadata": {},
   "outputs": [],
   "source": [
    "submit.head()"
   ]
  },
  {
   "cell_type": "code",
   "execution_count": null,
   "metadata": {},
   "outputs": [],
   "source": [
    "submit.to_csv('data/submit.csv', index=False)"
   ]
  }
 ],
 "metadata": {
  "kernelspec": {
   "display_name": "Python 3",
   "language": "python",
   "name": "python3"
  },
  "language_info": {
   "name": "python",
   "version": "3.9.7"
  },
  "orig_nbformat": 4
 },
 "nbformat": 4,
 "nbformat_minor": 2
}
